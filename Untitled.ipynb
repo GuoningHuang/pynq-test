{
 "cells": [
  {
   "cell_type": "code",
   "execution_count": 1,
   "id": "31d8a932-f815-4c73-a380-83e96fe6640e",
   "metadata": {},
   "outputs": [
    {
     "data": {
      "application/javascript": [
       "\n",
       "try {\n",
       "require(['notebook/js/codecell'], function(codecell) {\n",
       "  codecell.CodeCell.options_default.highlight_modes[\n",
       "      'magic_text/x-csrc'] = {'reg':[/^%%microblaze/]};\n",
       "  Jupyter.notebook.events.one('kernel_ready.Kernel', function(){\n",
       "      Jupyter.notebook.get_cells().map(function(cell){\n",
       "          if (cell.cell_type == 'code'){ cell.auto_highlight(); } }) ;\n",
       "  });\n",
       "});\n",
       "} catch (e) {};\n"
      ]
     },
     "metadata": {},
     "output_type": "display_data"
    },
    {
     "data": {
      "application/javascript": [
       "\n",
       "try {\n",
       "require(['notebook/js/codecell'], function(codecell) {\n",
       "  codecell.CodeCell.options_default.highlight_modes[\n",
       "      'magic_text/x-csrc'] = {'reg':[/^%%pybind11/]};\n",
       "  Jupyter.notebook.events.one('kernel_ready.Kernel', function(){\n",
       "      Jupyter.notebook.get_cells().map(function(cell){\n",
       "          if (cell.cell_type == 'code'){ cell.auto_highlight(); } }) ;\n",
       "  });\n",
       "});\n",
       "} catch (e) {};\n"
      ]
     },
     "metadata": {},
     "output_type": "display_data"
    }
   ],
   "source": [
    "from pynq import Overlay,allocate\n",
    "overlay = Overlay(\"top.bit\")\n",
    "overlay.download()"
   ]
  },
  {
   "cell_type": "code",
   "execution_count": 2,
   "id": "fd2d3808-5026-45ae-9c20-df04a7d7f856",
   "metadata": {},
   "outputs": [],
   "source": [
    "mul = overlay.Matrix_mult_0"
   ]
  },
  {
   "cell_type": "code",
   "execution_count": 19,
   "id": "53988a97-978e-4cf3-be6b-a0d81506c87f",
   "metadata": {},
   "outputs": [],
   "source": [
    "import numpy as np\n",
    "A = np.ones([4,4],dtype=np.float32)\n",
    "B = np.ones([4,4],dtype=np.float32)*4\n",
    "C = np.zeros([4,4],dtype=np.float32)"
   ]
  },
  {
   "cell_type": "code",
   "execution_count": 20,
   "id": "cbd4d9b4-1de7-4d64-9b50-c254f3f77826",
   "metadata": {},
   "outputs": [],
   "source": [
    "XMATRIX_MULT_CONTROL_ADDR_AP_CTRL = 0x00\n",
    "XMATRIX_MULT_CONTROL_ADDR_A_DATA = 0x10\n",
    "XMATRIX_MULT_CONTROL_ADDR_B_DATA = 0x1c\n",
    "XMATRIX_MULT_CONTROL_ADDR_C_DATA = 0x28\n",
    "MATRIX_SIZE = 4\n",
    "A_buffer = allocate(shape=(MATRIX_SIZE, MATRIX_SIZE), dtype=np.float32)\n",
    "B_buffer = allocate(shape=(MATRIX_SIZE, MATRIX_SIZE), dtype=np.float32)\n",
    "C_buffer = allocate(shape=(MATRIX_SIZE, MATRIX_SIZE), dtype=np.float32)\n",
    "np.copyto(A_buffer, A)\n",
    "np.copyto(B_buffer, B)"
   ]
  },
  {
   "cell_type": "code",
   "execution_count": 21,
   "id": "63a9431b-e123-41f4-b6fb-a525bdb52f5e",
   "metadata": {},
   "outputs": [],
   "source": [
    "mul.write(XMATRIX_MULT_CONTROL_ADDR_A_DATA,A_buffer.physical_address)\n",
    "mul.write(XMATRIX_MULT_CONTROL_ADDR_B_DATA,B_buffer.physical_address)\n",
    "mul.write(XMATRIX_MULT_CONTROL_ADDR_C_DATA,C_buffer.physical_address)"
   ]
  },
  {
   "cell_type": "code",
   "execution_count": 95,
   "id": "ab41cd05-4d8f-404a-b470-b69b64100488",
   "metadata": {},
   "outputs": [
    {
     "data": {
      "text/plain": [
       "RegisterMap {\n",
       "  CTRL = Register(AP_START=0, AP_DONE=0, AP_IDLE=1, AP_READY=0, RESERVED_1=0, AUTO_RESTART=0, RESERVED_2=0, INTERRUPT=0, RESERVED_3=0),\n",
       "  GIER = Register(Enable=0, RESERVED=0),\n",
       "  IP_IER = Register(CHAN0_INT_EN=0, CHAN1_INT_EN=0, RESERVED_0=0),\n",
       "  IP_ISR = Register(CHAN0_INT_ST=0, CHAN1_INT_ST=0, RESERVED_0=0),\n",
       "  A_1 = Register(A=write-only),\n",
       "  A_2 = Register(A=write-only),\n",
       "  B_1 = Register(B=write-only),\n",
       "  B_2 = Register(B=write-only),\n",
       "  C_1 = Register(C=write-only),\n",
       "  C_2 = Register(C=write-only)\n",
       "}"
      ]
     },
     "execution_count": 95,
     "metadata": {},
     "output_type": "execute_result"
    }
   ],
   "source": [
    "mul.register_map"
   ]
  },
  {
   "cell_type": "code",
   "execution_count": 24,
   "id": "0c3f76fa-a8c0-4dcc-9acd-5db19b3cbfe0",
   "metadata": {},
   "outputs": [],
   "source": [
    "mul.register_map.CTRL.AP_START=1"
   ]
  },
  {
   "cell_type": "code",
   "execution_count": 27,
   "id": "c8a8daa5-4d17-4c7e-bfb8-98fafe662b95",
   "metadata": {},
   "outputs": [
    {
     "data": {
      "text/plain": [
       "0"
      ]
     },
     "execution_count": 27,
     "metadata": {},
     "output_type": "execute_result"
    }
   ],
   "source": [
    "mul.register_map.CTRL.AP_READY"
   ]
  },
  {
   "cell_type": "code",
   "execution_count": 28,
   "id": "016d11c4-d573-4c6e-ae45-126c12115d91",
   "metadata": {},
   "outputs": [
    {
     "data": {
      "text/plain": [
       "array([[16., 16., 16., 16.],\n",
       "       [16., 16., 16., 16.],\n",
       "       [16., 16., 16., 16.],\n",
       "       [16., 16., 16., 16.]], dtype=float32)"
      ]
     },
     "execution_count": 28,
     "metadata": {},
     "output_type": "execute_result"
    }
   ],
   "source": [
    "np.copyto(C,C_buffer)\n",
    "C"
   ]
  },
  {
   "cell_type": "code",
   "execution_count": null,
   "id": "82e348d5-11cd-4851-9bde-eea98c10ddb8",
   "metadata": {},
   "outputs": [],
   "source": []
  }
 ],
 "metadata": {
  "kernelspec": {
   "display_name": "Python 3 (ipykernel)",
   "language": "python",
   "name": "python3"
  },
  "language_info": {
   "codemirror_mode": {
    "name": "ipython",
    "version": 3
   },
   "file_extension": ".py",
   "mimetype": "text/x-python",
   "name": "python",
   "nbconvert_exporter": "python",
   "pygments_lexer": "ipython3",
   "version": "3.10.12"
  }
 },
 "nbformat": 4,
 "nbformat_minor": 5
}
